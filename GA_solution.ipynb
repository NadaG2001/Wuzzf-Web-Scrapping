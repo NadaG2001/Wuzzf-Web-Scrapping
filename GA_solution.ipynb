{
 "cells": [
  {
   "cell_type": "markdown",
   "id": "10c49b52",
   "metadata": {},
   "source": [
    "# Genetic Algorithm Solution"
   ]
  },
  {
   "cell_type": "code",
   "execution_count": 51,
   "id": "67a7006a",
   "metadata": {},
   "outputs": [],
   "source": [
    "import csv  # to read csv file\n",
    "import random\n",
    "from random import randint, random\n",
    "import numpy as np"
   ]
  },
  {
   "cell_type": "code",
   "execution_count": 52,
   "id": "997fa15f",
   "metadata": {},
   "outputs": [],
   "source": [
    "# with is to keyword allows us to both open and close the file without having to explicitly close it.\n",
    "with open('trip.csv', newline='') as csvfile:  # r for read only\n",
    "    data = list(csv.reader(csvfile))\n",
    "    # remove data form that place\n",
    "    data.pop(0)"
   ]
  },
  {
   "cell_type": "code",
   "execution_count": 53,
   "id": "75d3dd31",
   "metadata": {},
   "outputs": [],
   "source": [
    "# we want to represent each chromosome as an array so we create all_activities array\n",
    "all_activities = []\n",
    "for i in data:\n",
    "    all_activities.append({'Activity': i[0], 'type': i[1], 'cost': int(i[2])})\n"
   ]
  },
  {
   "cell_type": "code",
   "execution_count": 54,
   "id": "fa6739cb",
   "metadata": {},
   "outputs": [],
   "source": [
    "# population size\n",
    "pop_size = 20"
   ]
  },
  {
   "cell_type": "code",
   "execution_count": 55,
   "id": "e68002d3",
   "metadata": {},
   "outputs": [
    {
     "name": "stdout",
     "output_type": "stream",
     "text": [
      "Please enter number of activities you prefer to do in Day1 (1 or 2): 1\n",
      "Please enter number of activities you prefer to do in Day2 (1 or 2): 2\n",
      "Please enter number of activities you prefer to do in Day3 (1 or 2): 1\n"
     ]
    }
   ],
   "source": [
    "# we need to ask users for number of activities, so we can use the sumation as individual length\n",
    "numAofActivities = []\n",
    "# because it is 3 days\n",
    "for i in range(3):\n",
    "    while True:\n",
    "        n = int(input(f\"Please enter number of activities you prefer to do in Day{i+1} (1 or 2): \"))\n",
    "        if n <= 2:\n",
    "            numAofActivities.append(n)\n",
    "            break\n",
    "        else:\n",
    "            print(\"Please enter either 1 or 2.\")"
   ]
  },
  {
   "cell_type": "code",
   "execution_count": 56,
   "id": "474818b9",
   "metadata": {},
   "outputs": [],
   "source": [
    "# AcNo is the chromosome length\n",
    "AcNo = sum(numAofActivities)"
   ]
  },
  {
   "cell_type": "code",
   "execution_count": 57,
   "id": "0b017c35",
   "metadata": {},
   "outputs": [],
   "source": [
    "# Create the initial population, it is a set of individuals. Each individual is a solution to the problem you want to solve.\n",
    "def initial_population(AcNo, all_activities):  # all_activities [0-35]\n",
    "    pop = [randint(0,  len(all_activities) - 1) for _ in range(AcNo)]\n",
    "    return pop"
   ]
  },
  {
   "cell_type": "code",
   "execution_count": 59,
   "id": "ce8b1913",
   "metadata": {},
   "outputs": [
    {
     "name": "stdout",
     "output_type": "stream",
     "text": [
      "Please enter your budget: 200\n"
     ]
    }
   ],
   "source": [
    "# Generate the population, our population will have a size of 20 and it is a set of chromosomes\n",
    "population = [initial_population(AcNo, all_activities) for _ in range(pop_size)]  # list > list > list\n",
    "\n",
    "# We need to ask the user about their budget\n",
    "budget = int(input(\"Please enter your budget: \"))"
   ]
  },
  {
   "cell_type": "code",
   "execution_count": 60,
   "id": "de968f21",
   "metadata": {},
   "outputs": [
    {
     "name": "stdout",
     "output_type": "stream",
     "text": [
      "Please enter your activity preference (E for Exciting, S for Shopping & Restaurants, N for Nature): N\n"
     ]
    }
   ],
   "source": [
    "# We also need to ask the user about the experience type they want\n",
    "Experience = input(\"Please enter your activity preference (E for Exciting, S for Shopping & Restaurants, N for Nature): \")\n",
    "while True:\n",
    "    if Experience == 'E':\n",
    "        ExperienceNew = 'Exciting'\n",
    "    elif Experience == 'S':\n",
    "        ExperienceNew = 'Shopping & Restaurants'\n",
    "    elif Experience == 'N':\n",
    "        ExperienceNew = 'Nature'\n",
    "    else:\n",
    "        print('Please choose between {E,S,N}')\n",
    "    break"
   ]
  },
  {
   "cell_type": "code",
   "execution_count": 61,
   "id": "84897c6b",
   "metadata": {},
   "outputs": [],
   "source": [
    "# Fitness function, we need it to give a fitness score to each individual.\n",
    "# Before designing the fitness function, we need to assign a weight to each factor so we can choose the best individuals.\n",
    "def Fitness_function(individual, all_activities, budget, Experience):\n",
    "    # Assign the cost and type of each activity in the individual\n",
    "    individual_cost = 0\n",
    "    individual_type = \"\"\n",
    "    for i in individual:\n",
    "        individual_cost += all_activities[i][\"cost\"]\n",
    "        individual_type += all_activities[i][\"type\"]\n",
    "\n",
    "    # Calculate the fitness score based on the budget, experience type, and number of activities\n",
    "    fitness = 0\n",
    "    if individual_cost <= budget:\n",
    "        fitness += 0.25\n",
    "    if len(individual) == AcNo:\n",
    "        fitness += 0.25\n",
    "    if Experience in individual_type:\n",
    "        fitness += 0.5\n",
    "\n",
    "    return fitness"
   ]
  },
  {
   "cell_type": "code",
   "execution_count": 62,
   "id": "69bc4d69",
   "metadata": {},
   "outputs": [],
   "source": [
    "# Calculate the fitness of each individual in the population\n",
    "fitness = [Fitness_function(individual, all_activities, budget, ExperienceNew)\n",
    "           for individual in population]"
   ]
  },
  {
   "cell_type": "code",
   "execution_count": 63,
   "id": "5484bb57",
   "metadata": {},
   "outputs": [],
   "source": [
    "# Selection, we need to select the best individuals to be the parents of the next generation.\n",
    "# We will use the roulette wheel selection method.\n",
    "def selection(population, fitness):\n",
    "    # Calculate the probability of each individual\n",
    "    total_fitness = sum(fitness)\n",
    "    relative_fitness = [f / total_fitness for f in fitness]\n",
    "    probabilities = [sum(relative_fitness[:i + 1])\n",
    "                     for i in range(len(relative_fitness))]\n",
    "\n",
    "    # Select the individuals based on the probabilities\n",
    "    selected_individuals = []\n",
    "    for _ in range(len(population)):\n",
    "        r = random()\n",
    "        for i in range(len(probabilities)):\n",
    "            if r <= probabilities[i]:\n",
    "                selected_individuals.append(population[i])\n",
    "                break\n",
    "\n",
    "    return selected_individuals\n"
   ]
  },
  {
   "cell_type": "code",
   "execution_count": 64,
   "id": "25ca5b27",
   "metadata": {},
   "outputs": [],
   "source": [
    "# Crossover, we need to combine the genes of the parents to create the offspring.\n",
    "# We will use the one-point crossover method.\n",
    "def crossover(parent1, parent2):\n",
    "    # Choose a random index to perform the crossover\n",
    "    crossover_index = randint(1, len(parent1) - 1)\n",
    "\n",
    "    # Perform the crossover\n",
    "    offspring1 = parent1[:crossover_index] + parent2[crossover_index:]\n",
    "    offspring2 = parent2[:crossover_index] + parent1[crossover_index:]\n",
    "\n",
    "    return offspring1, offspring2\n"
   ]
  },
  {
   "cell_type": "code",
   "execution_count": 65,
   "id": "8d286e1a",
   "metadata": {},
   "outputs": [],
   "source": [
    "# Mutation, we need to randomly change the genes of the offspring to avoid local optima.\n",
    "# We will use the swap mutation method.\n",
    "def mutation(offspring, all_activities):\n",
    "    # Choose a random index to perform the mutation\n",
    "    mutation_index = randint(0, len(offspring) - 1)\n",
    "\n",
    "    # Perform the mutation\n",
    "    offspring[mutation_index] = randint(0, len(all_activities) - 1)\n",
    "\n",
    "    return offspring"
   ]
  },
  {
   "cell_type": "code",
   "execution_count": 66,
   "id": "f2b8e83e",
   "metadata": {},
   "outputs": [],
   "source": [
    "# Create the next generation\n",
    "def next_generation(population, fitness):\n",
    "    # Select the best individuals\n",
    "    selected_individuals = selection(population, fitness)\n",
    "\n",
    "    # Perform crossover and mutation\n",
    "    next_generation = []\n",
    "    for i in range(0, len(selected_individuals), 2):\n",
    "        # Perform crossover\n",
    "        offspring1, offspring2 = crossover(\n",
    "            selected_individuals[i], selected_individuals[i + 1])\n",
    "\n",
    "        # Perform mutation\n",
    "        offspring1 = mutation(offspring1, all_activities)\n",
    "        offspring2 = mutation(offspring2, all_activities)\n",
    "\n",
    "        # Add the offspring to the next generation\n",
    "        next_generation.append(offspring1)\n",
    "        next_generation.append(offspring2)\n",
    "\n",
    "    return next_generation"
   ]
  },
  {
   "cell_type": "code",
   "execution_count": 67,
   "id": "c9edb809",
   "metadata": {},
   "outputs": [],
   "source": [
    "# Run the genetic algorithm\n",
    "for i in range(100):\n",
    "    # Calculate the fitness of each individual in the population\n",
    "    fitness = [Fitness_function(individual, all_activities, budget, ExperienceNew)\n",
    "               for individual in population]\n",
    "\n",
    "    # Check if we have found the solution\n",
    "    if max(fitness) == 1:\n",
    "        break\n",
    "\n",
    "    # Create the next generation\n",
    "    population = next_generation(population, fitness)"
   ]
  },
  {
   "cell_type": "code",
   "execution_count": 68,
   "id": "e12d18bc",
   "metadata": {},
   "outputs": [
    {
     "name": "stdout",
     "output_type": "stream",
     "text": [
      "The best solution is:  [24, 11, 14, 30]\n",
      "The fitness score is:  0.75\n"
     ]
    }
   ],
   "source": [
    "# Print the solution\n",
    "best_individual = population[fitness.index(max(fitness))]\n",
    "print(\"The best solution is: \", best_individual)\n",
    "print(\"The fitness score is: \", max(fitness))"
   ]
  },
  {
   "cell_type": "code",
   "execution_count": 69,
   "id": "23660ca7",
   "metadata": {},
   "outputs": [
    {
     "name": "stdout",
     "output_type": "stream",
     "text": [
      "The activities are: \n",
      "{'Activity': 'Nofa Wild Life Park', 'type': 'Nature', 'cost': 100}\n",
      "{'Activity': 'Centria Mall', 'type': 'Shopping & Resturants', 'cost': 900}\n",
      "{'Activity': 'Al Nakheel Mall', 'type': 'Shopping & Resturants', 'cost': 450}\n",
      "{'Activity': 'Theatre Shows', 'type': 'Exciting', 'cost': 800}\n"
     ]
    }
   ],
   "source": [
    "# Print the activities of the best individual\n",
    "print(\"The activities are: \")\n",
    "for i in best_individual:\n",
    "    print(all_activities[i])"
   ]
  },
  {
   "cell_type": "code",
   "execution_count": 70,
   "id": "068483c1",
   "metadata": {},
   "outputs": [
    {
     "name": "stdout",
     "output_type": "stream",
     "text": [
      "The cost is:  100\n",
      "The cost is:  1000\n",
      "The cost is:  1450\n",
      "The cost is:  2250\n"
     ]
    }
   ],
   "source": [
    "# Print the cost of the best individual\n",
    "individual_cost = 0\n",
    "for i in best_individual:\n",
    "    individual_cost += all_activities[i][\"cost\"]\n",
    "    print(\"The cost is: \", individual_cost)"
   ]
  },
  {
   "cell_type": "code",
   "execution_count": 71,
   "id": "c8235511",
   "metadata": {},
   "outputs": [
    {
     "name": "stdout",
     "output_type": "stream",
     "text": [
      "The type is:  Nature\n",
      "The type is:  NatureShopping & Resturants\n",
      "The type is:  NatureShopping & ResturantsShopping & Resturants\n",
      "The type is:  NatureShopping & ResturantsShopping & ResturantsExciting\n"
     ]
    }
   ],
   "source": [
    "# Print the type of the best individual\n",
    "individual_type = \"\"\n",
    "for i in best_individual:\n",
    "    individual_type += all_activities[i][\"type\"]\n",
    "    print(\"The type is: \", individual_type)"
   ]
  },
  {
   "cell_type": "code",
   "execution_count": 72,
   "id": "871a3738",
   "metadata": {},
   "outputs": [
    {
     "name": "stdout",
     "output_type": "stream",
     "text": [
      "The number of activities is:  4\n"
     ]
    }
   ],
   "source": [
    "# Print the number of activities of the best individual\n",
    "print(\"The number of activities is: \", len(best_individual))"
   ]
  },
  {
   "cell_type": "code",
   "execution_count": 73,
   "id": "c28b2adc",
   "metadata": {},
   "outputs": [
    {
     "name": "stdout",
     "output_type": "stream",
     "text": [
      "The budget is:  200\n"
     ]
    }
   ],
   "source": [
    "# Print the budget of the best individual\n",
    "print(\"The budget is: \", budget)"
   ]
  },
  {
   "cell_type": "code",
   "execution_count": 74,
   "id": "d5315a58",
   "metadata": {},
   "outputs": [
    {
     "name": "stdout",
     "output_type": "stream",
     "text": [
      "The experience type is:  Nature\n"
     ]
    }
   ],
   "source": [
    "# Print the experience type of the best individual\n",
    "print(\"The experience type is: \", ExperienceNew)"
   ]
  },
  {
   "cell_type": "code",
   "execution_count": 75,
   "id": "a21ed556",
   "metadata": {},
   "outputs": [],
   "source": [
    "import matplotlib.pyplot as plt"
   ]
  },
  {
   "cell_type": "code",
   "execution_count": 84,
   "id": "ee4f1297",
   "metadata": {},
   "outputs": [
    {
     "data": {
      "image/png": "[encoded data removed]",
      "text/plain": [
       "<Figure size 432x288 with 1 Axes>"
      ]
     },
     "metadata": {
      "needs_background": "light"
     },
     "output_type": "display_data"
    }
   ],
   "source": [
    "# apply the graph of best fitness score\n",
    "import matplotlib.pyplot as plt\n",
    "\n",
    "min_fitness = min(best_individual)\n",
    "max_fitness = max(best_individual)\n",
    "fitness_range = max_fitness - min_fitness\n",
    "scaled_fitness = [(best_individual - min_fitness)/fitness_range*0.9 for best_individual in fitness]\n",
    "\n",
    "plt.plot(fitness_range)\n",
    "plt.ylabel('Fitness Score')\n",
    "plt.xlabel('Generation')\n",
    "plt.show()"
   ]
  },
  {
   "cell_type": "code",
   "execution_count": null,
   "id": "3db02f4d",
   "metadata": {},
   "outputs": [],
   "source": []
  }
 ],
 "metadata": {
  "kernelspec": {
   "display_name": "Python 3 (ipykernel)",
   "language": "python",
   "name": "python3"
  },
  "language_info": {
   "codemirror_mode": {
    "name": "ipython",
    "version": 3
   },
   "file_extension": ".py",
   "mimetype": "text/x-python",
   "name": "python",
   "nbconvert_exporter": "python",
   "pygments_lexer": "ipython3",
   "version": "3.9.12"
  }
 },
 "nbformat": 4,
 "nbformat_minor": 5
}
